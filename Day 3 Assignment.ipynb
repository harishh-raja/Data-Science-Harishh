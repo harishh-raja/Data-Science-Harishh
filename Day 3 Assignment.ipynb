{
 "cells": [
  {
   "cell_type": "markdown",
   "id": "74e6621b-386f-41fa-95d0-aee579d522d3",
   "metadata": {},
   "source": [
    "## Task 1"
   ]
  },
  {
   "cell_type": "code",
   "execution_count": 7,
   "id": "8dcea4be-6a34-48ab-a294-b9fbb56fcbd0",
   "metadata": {},
   "outputs": [
    {
     "name": "stdout",
     "output_type": "stream",
     "text": [
      "nasir ali\n"
     ]
    }
   ],
   "source": [
    "first_name = \"nasir\"\n",
    "last_name = \"ali\"\n",
    "print(first_name,last_name)"
   ]
  },
  {
   "cell_type": "markdown",
   "id": "65c61c7c-fe29-405e-b51c-6a68c94ed74b",
   "metadata": {},
   "source": [
    "## Task 2"
   ]
  },
  {
   "cell_type": "code",
   "execution_count": 23,
   "id": "3ff34843-7f16-4dae-9f55-f585d7ebb6d3",
   "metadata": {},
   "outputs": [
    {
     "name": "stdout",
     "output_type": "stream",
     "text": [
      "nasir ali\n",
      "7\n",
      "2\n",
      "False\n",
      "True\n",
      "     Nasir Ali      \n",
      "b'Nasir Ali'\n",
      "nasir ali\n",
      "NASIR ALI\n",
      "['Nasir', 'Ali']\n"
     ]
    }
   ],
   "source": [
    "name = \"Nasir Ali\"\n",
    "\n",
    "print(name.lower())\n",
    "\n",
    "print(name.find(\"l\"))\n",
    "\n",
    "print(name.index(\"s\"))\n",
    "\n",
    "print(name.isdigit())\n",
    "\n",
    "print(name.endswith(\"i\"))\n",
    "\n",
    "print(name.center(20))\n",
    "\n",
    "print(name.encode())\n",
    "\n",
    "print(name.casefold())\n",
    "\n",
    "print(name.upper())\n",
    "\n",
    "print(name.split(\" \"))"
   ]
  }
 ],
 "metadata": {
  "kernelspec": {
   "display_name": "Python 3 (ipykernel)",
   "language": "python",
   "name": "python3"
  },
  "language_info": {
   "codemirror_mode": {
    "name": "ipython",
    "version": 3
   },
   "file_extension": ".py",
   "mimetype": "text/x-python",
   "name": "python",
   "nbconvert_exporter": "python",
   "pygments_lexer": "ipython3",
   "version": "3.12.4"
  }
 },
 "nbformat": 4,
 "nbformat_minor": 5
}
