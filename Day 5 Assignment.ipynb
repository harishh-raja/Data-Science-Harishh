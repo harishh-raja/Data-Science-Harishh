{
 "cells": [
  {
   "cell_type": "markdown",
   "id": "19e3689e-697b-4dd3-8973-06feabbe08fe",
   "metadata": {},
   "source": [
    "## Function to get user input :"
   ]
  },
  {
   "cell_type": "code",
   "execution_count": 3,
   "id": "ae78d8b1-5ecf-4869-ad59-ca3423d71395",
   "metadata": {},
   "outputs": [],
   "source": [
    "def add():\n",
    "    num1 = int(input(\"Enter the first number\"))\n",
    "    num2 = int(input(\"Enter the second number\"))\n",
    "    sum = num1+num2\n",
    "    print(f\" The sum of two numbers is {sum} \")"
   ]
  },
  {
   "cell_type": "code",
   "execution_count": 5,
   "id": "8fdaa68e-32d8-41df-bb6f-269c3396c94e",
   "metadata": {},
   "outputs": [
    {
     "name": "stdin",
     "output_type": "stream",
     "text": [
      "Enter the first number 23\n",
      "Enter the second number 45\n"
     ]
    },
    {
     "name": "stdout",
     "output_type": "stream",
     "text": [
      " The sum of two numbers is 68 \n"
     ]
    }
   ],
   "source": [
    "add()"
   ]
  }
 ],
 "metadata": {
  "kernelspec": {
   "display_name": "Python 3 (ipykernel)",
   "language": "python",
   "name": "python3"
  },
  "language_info": {
   "codemirror_mode": {
    "name": "ipython",
    "version": 3
   },
   "file_extension": ".py",
   "mimetype": "text/x-python",
   "name": "python",
   "nbconvert_exporter": "python",
   "pygments_lexer": "ipython3",
   "version": "3.12.4"
  }
 },
 "nbformat": 4,
 "nbformat_minor": 5
}
