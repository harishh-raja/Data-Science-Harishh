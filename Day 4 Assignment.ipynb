{
 "cells": [
  {
   "cell_type": "markdown",
   "id": "4541c7a0-f355-418b-abc0-8ee29dbbfe32",
   "metadata": {},
   "source": [
    "## Nested if else"
   ]
  },
  {
   "cell_type": "code",
   "execution_count": 6,
   "id": "b61abe86-befd-4f2a-96e4-079e46e9c5f8",
   "metadata": {},
   "outputs": [
    {
     "name": "stdin",
     "output_type": "stream",
     "text": [
      "Enter your marks 95\n"
     ]
    },
    {
     "name": "stdout",
     "output_type": "stream",
     "text": [
      "You passed with distinction\n"
     ]
    }
   ],
   "source": [
    "mark = int(input(\"Enter your marks\"))\n",
    "\n",
    "if mark > 100 or mark < 0 :\n",
    "    print(\"invalid\")\n",
    "else :\n",
    "    if mark >= 35 :\n",
    "        if mark >= 90 :\n",
    "            print(\"You passed with distinction\")\n",
    "        else :\n",
    "            print(\"You passed\")\n",
    "    else :\n",
    "        print(\"You failed\")"
   ]
  }
 ],
 "metadata": {
  "kernelspec": {
   "display_name": "Python 3 (ipykernel)",
   "language": "python",
   "name": "python3"
  },
  "language_info": {
   "codemirror_mode": {
    "name": "ipython",
    "version": 3
   },
   "file_extension": ".py",
   "mimetype": "text/x-python",
   "name": "python",
   "nbconvert_exporter": "python",
   "pygments_lexer": "ipython3",
   "version": "3.12.4"
  }
 },
 "nbformat": 4,
 "nbformat_minor": 5
}
